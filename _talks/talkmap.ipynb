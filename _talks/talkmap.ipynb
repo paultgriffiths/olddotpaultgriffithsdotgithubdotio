{
 "cells": [
  {
   "cell_type": "markdown",
   "metadata": {},
   "source": [
    "# Leaflet cluster map of talk locations\n",
    "\n",
    "Run this from the _talks/ directory, which contains .md files of all your talks. This scrapes the location YAML field from each .md file, geolocates it with geopy/Nominatim, and uses the getorg library to output data, HTML, and Javascript for a standalone cluster map."
   ]
  },
  {
   "cell_type": "code",
   "execution_count": 2,
   "metadata": {
    "collapsed": false,
    "jupyter": {
     "outputs_hidden": false
    }
   },
   "outputs": [
    {
     "name": "stdout",
     "output_type": "stream",
     "text": [
      "Iywidgets and ipyleaflet support disabled. You must be in a Jupyter notebook to use this feature.\n",
      "Error raised:\n",
      "No module named 'ipyleaflet'\n",
      "Check that you have enabled ipyleaflet in Jupyter with:\n",
      "    jupyter nbextension enable --py ipyleaflet\n"
     ]
    }
   ],
   "source": [
    "#!pip install getorg --upgrade\n",
    "import glob\n",
    "import getorg\n",
    "from geopy import Nominatim"
   ]
  },
  {
   "cell_type": "code",
   "execution_count": 3,
   "metadata": {
    "collapsed": false,
    "jupyter": {
     "outputs_hidden": false
    }
   },
   "outputs": [],
   "source": [
    "g = glob.glob(\"*.md\")"
   ]
  },
  {
   "cell_type": "code",
   "execution_count": 4,
   "metadata": {},
   "outputs": [
    {
     "data": {
      "text/plain": [
       "['2019-04-10-EGU.md',\n",
       " '2019-07-02_RMS_ASC.md',\n",
       " '2020-02-11_Cambridge_methane.md',\n",
       " '2020-11-09-AerChemMIP_workshop.md',\n",
       " '2020-06-17_UKESM_GA_Ozone.md',\n",
       " '2020-01-29-UKM.md',\n",
       " '2020-12-02_NCAS_stratO3.md',\n",
       " '2019-06-11-TriMIP.md',\n",
       " '2021-04-14_UKESM_science_bites.md',\n",
       " '2021-03-10-Camb_net_zero.md',\n",
       " '2017-07-19-tutorial.md',\n",
       " '2019-03-21-NCAS_CCM.md',\n",
       " '2020-11-04_MOHC_UKESM_group.md',\n",
       " '2021-03-25_UKMO_CMIP6.md']"
      ]
     },
     "execution_count": 4,
     "metadata": {},
     "output_type": "execute_result"
    }
   ],
   "source": [
    "g"
   ]
  },
  {
   "cell_type": "code",
   "execution_count": 8,
   "metadata": {},
   "outputs": [],
   "source": [
    "geocoder = Nominatim(user_agent=\"http\")\n",
    "location_dict = {}\n",
    "location = \"\"\n",
    "permalink = \"\"\n",
    "title = \"\""
   ]
  },
  {
   "cell_type": "code",
   "execution_count": 9,
   "metadata": {
    "collapsed": false,
    "jupyter": {
     "outputs_hidden": false
    }
   },
   "outputs": [
    {
     "name": "stdout",
     "output_type": "stream",
     "text": [
      "Vienna, Austria \n",
      " Wien, Österreich\n",
      "Birmingham, UK \n",
      " Birmingham, West Midlands Combined Authority, West Midlands, England, United Kingdom\n",
      "Cambridge, United Kingdom \n",
      " Cambridge, Cambridgeshire, East of England, England, United Kingdom\n",
      "Exeter, United Kingdom \n",
      " Exeter, Devon, South West England, England, United Kingdom\n",
      "Exeter, United Kingdom \n",
      " Exeter, Devon, South West England, England, United Kingdom\n",
      "Kuala Lumpur, Malaysia \n",
      " Kuala Lumpur, Malaysia\n",
      "Leeds, United Kingdom \n",
      " Leeds, West Yorkshire, Yorkshire and the Humber, England, United Kingdom\n",
      "Princeton, New Jersey, USA \n",
      " Princeton, Mercer County, New Jersey, United States\n",
      "Exeter, United Kingdom \n",
      " Exeter, Devon, South West England, England, United Kingdom\n",
      "Cambridge, United Kingdom \n",
      " Cambridge, Cambridgeshire, East of England, England, United Kingdom\n",
      "Chiang Mai, Thailand \n",
      " เชียงใหม่, อำเภอสารภี, จังหวัดเชียงใหม่, 4452, ประเทศไทย\n",
      "Exeter, United Kingdom \n",
      " Exeter, Devon, South West England, England, United Kingdom\n",
      "Exeter, United Kingdom \n",
      " Exeter, Devon, South West England, England, United Kingdom\n",
      "Exeter, United Kingdom \n",
      " Exeter, Devon, South West England, England, United Kingdom\n"
     ]
    }
   ],
   "source": [
    "\n",
    "for file in g:\n",
    "    with open(file, 'r') as f:\n",
    "        lines = f.read()\n",
    "        if lines.find('location: \"') > 1:\n",
    "            loc_start = lines.find('location: \"') + 11\n",
    "            lines_trim = lines[loc_start:]\n",
    "            loc_end = lines_trim.find('\"')\n",
    "            location = lines_trim[:loc_end]\n",
    "                            \n",
    "           \n",
    "        location_dict[location] = geocoder.geocode(location)\n",
    "        print(location, \"\\n\", location_dict[location])\n"
   ]
  },
  {
   "cell_type": "code",
   "execution_count": 11,
   "metadata": {
    "collapsed": false,
    "jupyter": {
     "outputs_hidden": false
    }
   },
   "outputs": [
    {
     "data": {
      "text/plain": [
       "'Written map to ../talkmap/'"
      ]
     },
     "execution_count": 11,
     "metadata": {},
     "output_type": "execute_result"
    }
   ],
   "source": [
    "m = getorg.orgmap.create_map_obj()\n",
    "getorg.orgmap.output_html_cluster_map(location_dict, folder_name=\"../talkmap\", hashed_usernames=False)"
   ]
  },
  {
   "cell_type": "code",
   "execution_count": null,
   "metadata": {
    "collapsed": true,
    "jupyter": {
     "outputs_hidden": true
    }
   },
   "outputs": [],
   "source": []
  },
  {
   "cell_type": "code",
   "execution_count": null,
   "metadata": {},
   "outputs": [],
   "source": []
  }
 ],
 "metadata": {
  "anaconda-cloud": {},
  "kernelspec": {
   "display_name": "Python 3",
   "language": "python",
   "name": "python3"
  },
  "language_info": {
   "codemirror_mode": {
    "name": "ipython",
    "version": 3
   },
   "file_extension": ".py",
   "mimetype": "text/x-python",
   "name": "python",
   "nbconvert_exporter": "python",
   "pygments_lexer": "ipython3",
   "version": "3.6.10"
  }
 },
 "nbformat": 4,
 "nbformat_minor": 4
}
