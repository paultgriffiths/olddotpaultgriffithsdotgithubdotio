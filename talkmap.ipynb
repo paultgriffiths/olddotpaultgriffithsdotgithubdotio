{
 "cells": [
  {
   "cell_type": "markdown",
   "metadata": {},
   "source": [
    "# Leaflet cluster map of talk locations\n",
    "\n",
    "Run this from the _talks/ directory, which contains .md files of all your talks. This scrapes the location YAML field from each .md file, geolocates it with geopy/Nominatim, and uses the getorg library to output data, HTML, and Javascript for a standalone cluster map."
   ]
  },
  {
   "cell_type": "code",
   "execution_count": 1,
   "metadata": {
    "collapsed": false
   },
   "outputs": [
    {
     "name": "stdout",
     "output_type": "stream",
     "text": [
      "Iywidgets and ipyleaflet support disabled. You must be in a Jupyter notebook to use this feature.\n",
      "Error raised:\n",
      "No module named 'ipywidgets'\n",
      "Check that you have enabled ipyleaflet in Jupyter with:\n",
      "    jupyter nbextension enable --py ipyleaflet\n"
     ]
    }
   ],
   "source": [
    "#!pip install getorg --upgrade\n",
    "import glob\n",
    "import getorg\n",
    "from geopy import Nominatim"
   ]
  },
  {
   "cell_type": "code",
   "execution_count": 12,
   "metadata": {
    "collapsed": false
   },
   "outputs": [],
   "source": [
    "g = glob.glob(\"_talks/*.md\")"
   ]
  },
  {
   "cell_type": "code",
   "execution_count": 13,
   "metadata": {
    "collapsed": true
   },
   "outputs": [],
   "source": [
    "geocoder = Nominatim(user_agent=\"http\")\n",
    "location_dict = {}\n",
    "location = \"\"\n",
    "permalink = \"\"\n",
    "title = \"\""
   ]
  },
  {
   "cell_type": "code",
   "execution_count": 14,
   "metadata": {
    "collapsed": false
   },
   "outputs": [
    {
     "name": "stdout",
     "output_type": "stream",
     "text": [
      "Tsukuba, Japan \n",
      " つくば市, 茨城県, 日本\n",
      "Vienna, Austria \n",
      " Wien, Österreich\n",
      "Birmingham, UK \n",
      " Birmingham, West Midlands Combined Authority, England, United Kingdom\n",
      "Vienna, Austria \n",
      " Wien, Österreich\n",
      "Online \n",
      " Online, Croix d'Argent, Montpellier, Hérault, Occitanie, France métropolitaine, France\n",
      "Cambridge, United Kingdom \n",
      " Cambridge, Cambridgeshire, Cambridgeshire and Peterborough, England, United Kingdom\n",
      "Exeter, United Kingdom \n",
      " Exeter, Devon, England, United Kingdom\n",
      "Exeter, United Kingdom \n",
      " Exeter, Devon, England, United Kingdom\n",
      "UCLA, California, United States \n",
      " University of California, Los Angeles, South Sepulveda Boulevard, Veterans Administration, California, 90073, United States\n",
      "Kuala Lumpur, Malaysia \n",
      " Kuala Lumpur, Malaysia\n",
      "Leeds, United Kingdom \n",
      " Leeds, West Yorkshire, England, United Kingdom\n",
      "Yokohama, Japan \n",
      " 横浜市, 神奈川県, 231-0017, 日本\n",
      "Princeton, New Jersey, USA \n",
      " Princeton, Mercer County, New Jersey, United States\n",
      "Cambridge, United Kingdom \n",
      " Cambridge, Cambridgeshire, Cambridgeshire and Peterborough, England, United Kingdom\n",
      "Chiang Mai, Thailand \n",
      " เชียงใหม่, ป่าแดด, อำเภอสารภี, จังหวัดเชียงใหม่, 55520, ประเทศไทย\n",
      "Exeter, United Kingdom \n",
      " Exeter, Devon, England, United Kingdom\n",
      "Exeter, United Kingdom \n",
      " Exeter, Devon, England, United Kingdom\n",
      "Exeter, United Kingdom \n",
      " Exeter, Devon, England, United Kingdom\n",
      "Exeter, United Kingdom \n",
      " Exeter, Devon, England, United Kingdom\n",
      "Kashiwanoha, Japan \n",
      " 柏の葉キャンパス, 屋上庭園の遊歩道, 若柴, 柏市, 千葉県, 277-8518, 日本\n"
     ]
    }
   ],
   "source": [
    "\n",
    "for file in g:\n",
    "    with open(file, 'r') as f:\n",
    "        lines = f.read()\n",
    "        if lines.find('location: \"') > 1:\n",
    "            loc_start = lines.find('location: \"') + 11\n",
    "            lines_trim = lines[loc_start:]\n",
    "            loc_end = lines_trim.find('\"')\n",
    "            location = lines_trim[:loc_end]\n",
    "                            \n",
    "           \n",
    "        location_dict[location] = geocoder.geocode(location)\n",
    "        print(location, \"\\n\", location_dict[location])\n"
   ]
  },
  {
   "cell_type": "code",
   "execution_count": 15,
   "metadata": {
    "collapsed": false
   },
   "outputs": [
    {
     "data": {
      "text/plain": [
       "'Written map to ./talkmap/'"
      ]
     },
     "execution_count": 15,
     "metadata": {},
     "output_type": "execute_result"
    }
   ],
   "source": [
    "m = getorg.orgmap.create_map_obj()\n",
    "getorg.orgmap.output_html_cluster_map(location_dict, folder_name=\"./talkmap\", hashed_usernames=False)"
   ]
  },
  {
   "cell_type": "code",
   "execution_count": null,
   "metadata": {
    "collapsed": true
   },
   "outputs": [],
   "source": []
  }
 ],
 "metadata": {
  "anaconda-cloud": {},
  "kernelspec": {
   "display_name": "Python 3",
   "language": "python",
   "name": "python3"
  },
  "language_info": {
   "codemirror_mode": {
    "name": "ipython",
    "version": 3
   },
   "file_extension": ".py",
   "mimetype": "text/x-python",
   "name": "python",
   "nbconvert_exporter": "python",
   "pygments_lexer": "ipython3",
   "version": "3.11.9"
  }
 },
 "nbformat": 4,
 "nbformat_minor": 0
}
